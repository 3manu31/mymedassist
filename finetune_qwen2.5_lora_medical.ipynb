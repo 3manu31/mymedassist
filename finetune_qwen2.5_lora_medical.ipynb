{
 "cells": [
  {
   "cell_type": "markdown",
   "id": "721245e1",
   "metadata": {},
   "source": [
    "# LoRA Fine-Tuning of Qwen2.5-3B-Instruct for Medical Study Assistant\n",
    "This notebook demonstrates parameter-efficient fine-tuning of Qwen2.5-3B-Instruct on a medical dataset using LoRA and SFTTrainer, with validation, early stopping, and TensorBoard monitoring."
   ]
  },
  {
   "cell_type": "code",
   "execution_count": null,
   "id": "205db603",
   "metadata": {},
   "outputs": [],
   "source": [
    "# Section 1: Install Required Libraries\n",
    "!pip install -U transformers trl peft accelerate bitsandbytes\n"
   ]
  },
  {
   "cell_type": "code",
   "execution_count": null,
   "id": "08a9da36",
   "metadata": {},
   "outputs": [],
   "source": [
    "# Section 2: Import Libraries and Check Environment\n",
    "import torch\n",
    "import transformers\n",
    "import trl\n",
    "import peft\n",
    "import bitsandbytes as bnb\n",
    "import os\n",
    "\n",
    "print('Torch CUDA available:', torch.cuda.is_available())\n",
    "print('CUDA device count:', torch.cuda.device_count())\n",
    "print('Transformers version:', transformers.__version__)\n",
    "print('Transformers path:', transformers.__file__)\n",
    "print('trl version:', trl.__version__)\n",
    "print('peft version:', peft.__version__)\n",
    "print('bitsandbytes version:', bnb.__version__)\n",
    "print('bitsandbytes path:', bnb.__file__)\n"
   ]
  },
  {
   "cell_type": "code",
   "execution_count": null,
   "id": "7e3fcb94",
   "metadata": {},
   "outputs": [],
   "source": [
    "# Section 3: Load and Inspect Dataset\n",
    "dataset_path = '/kaggle/input/data01/data/medical_dataset_kaggle.jsonl'  # Update path as needed\n",
    "data = [json.loads(line) for line in open(dataset_path, 'r', encoding='utf-8')]\n",
    "print(f'Loaded {len(data)} examples')\n",
    "print('Sample:', data[0])\n"
   ]
  },
  {
   "cell_type": "code",
   "execution_count": null,
   "id": "acff8e52",
   "metadata": {},
   "outputs": [],
   "source": [
    "# Section 4: Load Model and Tokenizer with Quantization\n",
    "from transformers import AutoModelForCausalLM, AutoTokenizer, BitsAndBytesConfig\n",
    "\n",
    "model_name = 'Qwen/Qwen2.5-3B-Instruct'\n",
    "tokenizer = AutoTokenizer.from_pretrained(model_name, trust_remote_code=True)\n",
    "quant_config = BitsAndBytesConfig(load_in_8bit=True)\n",
    "model = AutoModelForCausalLM.from_pretrained(\n",
    "    model_name,\n",
    "    trust_remote_code=True,\n",
    "    quantization_config=quant_config,\n",
    "    device_map='auto'\n",
    ")\n",
    "print('Model device:', next(model.parameters()).device)\n"
   ]
  },
  {
   "cell_type": "code",
   "execution_count": null,
   "id": "d950db66",
   "metadata": {},
   "outputs": [],
   "source": [
    "# Section 5: Optimize GPU/CPU Performance\n",
    "import torch\n",
    "\n",
    "torch.backends.cudnn.benchmark = True\n",
    "torch.backends.cudnn.enabled = True\n",
    "\n",
    "print('Model device:', next(model.parameters()).device)\n",
    "print('CUDA available:', torch.cuda.is_available())\n",
    "print('CUDA device count:', torch.cuda.device_count())\n",
    "print('Current CUDA device:', torch.cuda.current_device())\n",
    "print('Device name:', torch.cuda.get_device_name(torch.cuda.current_device()))\n",
    "\n",
    "def print_gpu_utilization():\n",
    "    import subprocess\n",
    "    print(subprocess.getoutput('nvidia-smi'))\n",
    "\n",
    "print_gpu_utilization()\n"
   ]
  },
  {
   "cell_type": "code",
   "execution_count": null,
   "id": "c8147700",
   "metadata": {},
   "outputs": [],
   "source": [
    "# Section 6: Format and Tokenize Data\n",
    "from datasets import Dataset\n",
    "\n",
    "def format_example(example):\n",
    "    prompt = example['instruction']\n",
    "    if example.get('input'):\n",
    "        prompt += '\\n' + example['input']\n",
    "    return {'prompt': prompt, 'completion': example['output']}\n",
    "\n",
    "train_data = [format_example(e) for e in data]\n",
    "\n",
    "if tokenizer.pad_token is None:\n",
    "    tokenizer.pad_token = tokenizer.eos_token\n",
    "\n",
    "def tokenize_function(example):\n",
    "    text = example['prompt'] + '\\n' + example['completion']\n",
    "    result = tokenizer(\n",
    "        text,\n",
    "        truncation=True,\n",
    "        max_length=1024,\n",
    "        padding='max_length'\n",
    "    )\n",
    "    result['labels'] = result['input_ids'].copy()\n",
    "    return result\n",
    "\n",
    "train_dataset = Dataset.from_list(train_data)\n",
    "tokenized_dataset = train_dataset.map(tokenize_function)\n",
    "print(tokenized_dataset[0])\n"
   ]
  },
  {
   "cell_type": "code",
   "execution_count": null,
   "id": "0ea02571",
   "metadata": {},
   "outputs": [],
   "source": [
    "# Section 7: Apply LoRA Configuration\n",
    "from peft import LoraConfig, get_peft_model\n",
    "\n",
    "lora_config = LoraConfig(\n",
    "    r=8,\n",
    "    lora_alpha=16,\n",
    "    target_modules=['q_proj', 'v_proj'],\n",
    "    lora_dropout=0.05,\n",
    "    bias='none',\n",
    "    task_type='CAUSAL_LM'\n",
    ")\n",
    "model = get_peft_model(model, lora_config)\n"
   ]
  },
  {
   "cell_type": "code",
   "execution_count": null,
   "id": "e85454e7",
   "metadata": {},
   "outputs": [],
   "source": [
    "# Section 8: Split Dataset and Set Training Arguments\n",
    "from transformers import TrainingArguments, EarlyStoppingCallback\n",
    "\n",
    "split = tokenized_dataset.train_test_split(test_size=0.1, seed=42)\n",
    "train_dataset = split['train']\n",
    "eval_dataset = split['test']\n",
    "\n",
    "training_args = TrainingArguments(\n",
    "    output_dir='./results',\n",
    "    per_device_train_batch_size=1,\n",
    "    gradient_accumulation_steps=2,\n",
    "    num_train_epochs=10,\n",
    "    learning_rate=2e-4,\n",
    "    fp16=True,\n",
    "    logging_steps=10,\n",
    "    save_steps=100,\n",
    "    logging_strategy='epoch',\n",
    "    evaluation_strategy='epoch',\n",
    "    report_to='tensorboard',\n",
    "    load_best_model_at_end=True,\n",
    "    metric_for_best_model='eval_loss',\n",
    "    greater_is_better=False\n",
    ")\n",
    "early_stopping = EarlyStoppingCallback(early_stopping_patience=2)\n"
   ]
  },
  {
   "cell_type": "code",
   "execution_count": null,
   "id": "a174160c",
   "metadata": {},
   "outputs": [],
   "source": [
    "# Section 9: Trainer Setup and Training (with Validation and Early Stopping)\n",
    "from trl import SFTTrainer\n",
    "\n",
    "trainer = SFTTrainer(\n",
    "    model=model,\n",
    "    train_dataset=train_dataset,\n",
    "    eval_dataset=eval_dataset,\n",
    "    args=training_args,\n",
    "    callbacks=[early_stopping],\n",
    ")\n",
    "trainer.train()\n",
    "\n",
    "# TensorBoard instructions\n",
    "import os\n",
    "if os.path.exists('./results'):\n",
    "    try:\n",
    "        from IPython.display import display\n",
    "        display('To monitor progress, run: %load_ext tensorboard; %tensorboard --logdir ./results')\n",
    "    except ImportError:\n",
    "        print('To monitor progress, run: %load_ext tensorboard; %tensorboard --logdir ./results')\n",
    "\n",
    "if trainer.is_world_process_zero():\n",
    "    print(f'Model and tokenizer saved to {training_args.output_dir}')\n"
   ]
  },
  {
   "cell_type": "code",
   "execution_count": null,
   "id": "7f210925",
   "metadata": {},
   "outputs": [],
   "source": [
    "# Section 10: Save Fine-Tuned Model and Tokenizer\n",
    "export_dir = '/kaggle/working/finetuned-qwen-medassist'\n",
    "model.save_pretrained(export_dir)\n",
    "tokenizer.save_pretrained(export_dir)\n",
    "print(f'Model saved to {export_dir}')\n",
    "\n",
    "if os.path.exists(export_dir):\n",
    "    print('Exported model directory exists and is ready for download or further use.')\n",
    "else:\n",
    "    print('Warning: Model directory not found. Check for errors above.')\n"
   ]
  },
  {
   "cell_type": "code",
   "execution_count": null,
   "id": "8aee1697",
   "metadata": {},
   "outputs": [],
   "source": [
    "# Section 11: Test Inference with Fine-Tuned Model\n",
    "prompt = 'Summarize the key diagnostic criteria for tuberculosis.'\n",
    "inputs = tokenizer(prompt, return_tensors='pt').to(model.device)\n",
    "outputs = model.generate(**inputs, max_new_tokens=256)\n",
    "print(tokenizer.decode(outputs[0], skip_special_tokens=True))\n"
   ]
  },
  {
   "cell_type": "code",
   "execution_count": null,
   "id": "fdcce248",
   "metadata": {},
   "outputs": [],
   "source": [
    "import json"
   ]
  }
 ],
 "metadata": {
  "language_info": {
   "name": "python"
  }
 },
 "nbformat": 4,
 "nbformat_minor": 5
}
